{
 "cells": [
  {
   "cell_type": "markdown",
   "id": "7b8396bb-2026-4a6b-940f-d76a4dccceb7",
   "metadata": {},
   "source": [
    "DEMO Series"
   ]
  },
  {
   "cell_type": "code",
   "execution_count": 1,
   "id": "d64dbf88-67c8-4efa-a9b6-c46a5e8d883b",
   "metadata": {},
   "outputs": [
    {
     "name": "stdout",
     "output_type": "stream",
     "text": [
      "0    1\n",
      "1    3\n",
      "2    5\n",
      "3    7\n",
      "4    9\n",
      "dtype: int64\n"
     ]
    }
   ],
   "source": [
    "import pandas as pd\n",
    "\n",
    "data = pd.Series([1, 3, 5, 7, 9])\n",
    "print(data)"
   ]
  },
  {
   "cell_type": "markdown",
   "id": "729925a8-1258-46bb-9519-751160a20561",
   "metadata": {},
   "source": [
    "DEMO Data Frame"
   ]
  },
  {
   "cell_type": "code",
   "execution_count": 12,
   "id": "a529283a-b7ba-4baa-ae6a-7729df5cd015",
   "metadata": {},
   "outputs": [
    {
     "name": "stdout",
     "output_type": "stream",
     "text": [
      "   A  B  C\n",
      "0  1  4  7\n",
      "1  2  5  8\n",
      "2  3  6  9\n",
      "\n",
      "0    1\n",
      "1    2\n",
      "2    3\n",
      "Name: A, dtype: int64\n",
      "\n",
      "<class 'pandas.core.series.Series'>\n"
     ]
    }
   ],
   "source": [
    "df = pd.DataFrame({\n",
    "    'A': [1, 2, 3],\n",
    "    'B': [4, 5, 6],\n",
    "    'C': [7, 8, 9]\n",
    "})\n",
    "\n",
    "print(df)\n",
    "print()\n",
    "\n",
    "column_a = df['A']\n",
    "print(column_a)\n",
    "print()\n",
    "\n",
    "print(type(column_a))\n"
   ]
  },
  {
   "cell_type": "code",
   "execution_count": null,
   "id": "f938351e-ea64-4cab-91d1-42a3e2c3cb29",
   "metadata": {},
   "outputs": [],
   "source": []
  }
 ],
 "metadata": {
  "kernelspec": {
   "display_name": "anaconda-panel-2023.05-py310",
   "language": "python",
   "name": "conda-env-anaconda-panel-2023.05-py310-py"
  },
  "language_info": {
   "codemirror_mode": {
    "name": "ipython",
    "version": 3
   },
   "file_extension": ".py",
   "mimetype": "text/x-python",
   "name": "python",
   "nbconvert_exporter": "python",
   "pygments_lexer": "ipython3",
   "version": "3.11.5"
  }
 },
 "nbformat": 4,
 "nbformat_minor": 5
}
